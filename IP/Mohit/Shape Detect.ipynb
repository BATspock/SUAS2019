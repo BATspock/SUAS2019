{
 "cells": [
  {
   "cell_type": "code",
   "execution_count": 3,
   "metadata": {},
   "outputs": [],
   "source": [
    "import os\n",
    "from tqdm import tqdm"
   ]
  },
  {
   "cell_type": "code",
   "execution_count": 4,
   "metadata": {},
   "outputs": [],
   "source": [
    "dir = 'shapes/'"
   ]
  },
  {
   "cell_type": "code",
   "execution_count": 5,
   "metadata": {},
   "outputs": [
    {
     "name": "stdout",
     "output_type": "stream",
     "text": [
      "['shapes/cross', 'shapes/pentagon', 'shapes/trapezoid', 'shapes/triangle', 'shapes/star', 'shapes/square', 'shapes/circle', 'shapes/diamond', 'shapes/semicircle']\n"
     ]
    }
   ],
   "source": [
    "labels = ['circle', 'cross', 'diamond', 'pentagon', 'semicircle', 'square', 'star', 'trapezoid', 'triangle']\n",
    "train_images = [dir+i for i in os.listdir(dir)]\n",
    "print(train_images)\n",
    "train_set = []\n",
    "for i in train_images:\n",
    "    train_set.append([i+'/'+j for j in os.listdir(i)])"
   ]
  },
  {
   "cell_type": "code",
   "execution_count": 6,
   "metadata": {},
   "outputs": [],
   "source": [
    "import cv2"
   ]
  },
  {
   "cell_type": "code",
   "execution_count": 7,
   "metadata": {},
   "outputs": [],
   "source": [
    "%matplotlib inline\n",
    "import matplotlib.pyplot as plt\n",
    "import numpy as np"
   ]
  },
  {
   "cell_type": "code",
   "execution_count": 56,
   "metadata": {},
   "outputs": [
    {
     "data": {
      "text/plain": [
       "'shapes/cross/cross_A_69.jpg'"
      ]
     },
     "execution_count": 56,
     "metadata": {},
     "output_type": "execute_result"
    }
   ],
   "source": [
    "train_set[0][0]"
   ]
  },
  {
   "cell_type": "code",
   "execution_count": 21,
   "metadata": {},
   "outputs": [
    {
     "data": {
      "image/png": "[encoded data removed]",
      "text/plain": [
       "<Figure size 432x288 with 1 Axes>"
      ]
     },
     "metadata": {
      "needs_background": "light"
     },
     "output_type": "display_data"
    }
   ],
   "source": [
    "img = cv2.imread(train_set[0][0])\n",
    "image = plt.imshow(img)"
   ]
  },
  {
   "cell_type": "code",
   "execution_count": 26,
   "metadata": {},
   "outputs": [],
   "source": [
    "label = []\n",
    "train = np.asarray(train_set)\n",
    "train = train.ravel()"
   ]
  },
  {
   "cell_type": "code",
   "execution_count": 28,
   "metadata": {},
   "outputs": [],
   "source": [
    "for i in train:\n",
    "    for j in labels:\n",
    "        if j in i and ((j=='circle' and j!= 'semicircle') or (j=='semicircle':\n",
    "            label.append(j)"
   ]
  },
  {
   "cell_type": "code",
   "execution_count": 45,
   "metadata": {},
   "outputs": [
    {
     "name": "stdout",
     "output_type": "stream",
     "text": [
      "['cross' 'cross' 'cross' 'cross' 'cross' 'cross' 'cross' 'cross' 'cross'\n",
      " 'cross' 'cross' 'cross' 'cross' 'cross' 'cross' 'cross' 'cross' 'cross'\n",
      " 'cross' 'cross' 'cross' 'cross' 'cross' 'cross' 'cross' 'cross' 'cross'\n",
      " 'cross' 'cross' 'cross' 'cross' 'cross' 'cross' 'cross' 'cross' 'cross'\n",
      " 'cross' 'cross' 'cross' 'cross' 'cross' 'cross' 'cross' 'cross' 'cross'\n",
      " 'cross' 'cross' 'cross' 'cross' 'cross' 'cross' 'cross' 'cross' 'cross'\n",
      " 'cross' 'cross' 'cross' 'cross' 'cross' 'cross' 'cross' 'cross' 'cross'\n",
      " 'cross' 'cross' 'cross' 'cross' 'cross' 'cross' 'cross' 'cross' 'cross'\n",
      " 'cross' 'cross' 'cross' 'cross' 'cross' 'cross' 'cross' 'cross' 'cross'\n",
      " 'cross' 'cross' 'cross' 'cross' 'cross' 'cross' 'cross' 'cross' 'cross'\n",
      " 'cross' 'cross' 'cross' 'cross' 'cross' 'cross' 'cross' 'cross' 'cross'\n",
      " 'cross' 'pentagon' 'pentagon' 'pentagon' 'pentagon' 'pentagon' 'pentagon'\n",
      " 'pentagon' 'pentagon' 'pentagon' 'pentagon' 'pentagon' 'pentagon'\n",
      " 'pentagon' 'pentagon' 'pentagon' 'pentagon' 'pentagon' 'pentagon'\n",
      " 'pentagon' 'pentagon' 'pentagon' 'pentagon' 'pentagon' 'pentagon'\n",
      " 'pentagon' 'pentagon' 'pentagon' 'pentagon' 'pentagon' 'pentagon'\n",
      " 'pentagon' 'pentagon' 'pentagon' 'pentagon' 'pentagon' 'pentagon'\n",
      " 'pentagon' 'pentagon' 'pentagon' 'pentagon' 'pentagon' 'pentagon'\n",
      " 'pentagon' 'pentagon' 'pentagon' 'pentagon' 'pentagon' 'pentagon'\n",
      " 'pentagon' 'pentagon' 'pentagon' 'pentagon' 'pentagon' 'pentagon'\n",
      " 'pentagon' 'pentagon' 'pentagon' 'pentagon' 'pentagon' 'pentagon'\n",
      " 'pentagon' 'pentagon' 'pentagon' 'pentagon' 'pentagon' 'pentagon'\n",
      " 'pentagon' 'pentagon' 'pentagon' 'pentagon' 'pentagon' 'pentagon'\n",
      " 'pentagon' 'pentagon' 'pentagon' 'pentagon' 'pentagon' 'pentagon'\n",
      " 'pentagon' 'pentagon' 'pentagon' 'pentagon' 'pentagon' 'pentagon'\n",
      " 'pentagon' 'pentagon' 'pentagon' 'pentagon' 'pentagon' 'pentagon'\n",
      " 'pentagon' 'pentagon' 'pentagon' 'pentagon' 'pentagon' 'pentagon'\n",
      " 'pentagon' 'pentagon' 'pentagon' 'pentagon' 'trapezoid' 'trapezoid'\n",
      " 'trapezoid' 'trapezoid' 'trapezoid' 'trapezoid' 'trapezoid' 'trapezoid'\n",
      " 'trapezoid' 'trapezoid' 'trapezoid' 'trapezoid' 'trapezoid' 'trapezoid'\n",
      " 'trapezoid' 'trapezoid' 'trapezoid' 'trapezoid' 'trapezoid' 'trapezoid'\n",
      " 'trapezoid' 'trapezoid' 'trapezoid' 'trapezoid' 'trapezoid' 'trapezoid'\n",
      " 'trapezoid' 'trapezoid' 'trapezoid' 'trapezoid' 'trapezoid' 'trapezoid'\n",
      " 'trapezoid' 'trapezoid' 'trapezoid' 'trapezoid' 'trapezoid' 'trapezoid'\n",
      " 'trapezoid' 'trapezoid' 'trapezoid' 'trapezoid' 'trapezoid' 'trapezoid'\n",
      " 'trapezoid' 'trapezoid' 'trapezoid' 'trapezoid' 'trapezoid' 'trapezoid'\n",
      " 'trapezoid' 'trapezoid' 'trapezoid' 'trapezoid' 'trapezoid' 'trapezoid'\n",
      " 'trapezoid' 'trapezoid' 'trapezoid' 'trapezoid' 'trapezoid' 'trapezoid'\n",
      " 'trapezoid' 'trapezoid' 'trapezoid' 'trapezoid' 'trapezoid' 'trapezoid'\n",
      " 'trapezoid' 'trapezoid' 'trapezoid' 'trapezoid' 'trapezoid' 'trapezoid'\n",
      " 'trapezoid' 'trapezoid' 'trapezoid' 'trapezoid' 'trapezoid' 'trapezoid'\n",
      " 'trapezoid' 'trapezoid' 'trapezoid' 'trapezoid' 'trapezoid' 'trapezoid'\n",
      " 'trapezoid' 'trapezoid' 'trapezoid' 'trapezoid' 'trapezoid' 'trapezoid'\n",
      " 'trapezoid' 'trapezoid' 'trapezoid' 'trapezoid' 'trapezoid' 'trapezoid'\n",
      " 'trapezoid' 'trapezoid' 'triangle' 'triangle' 'triangle' 'triangle'\n",
      " 'triangle' 'triangle' 'triangle' 'triangle' 'triangle' 'triangle'\n",
      " 'triangle' 'triangle' 'triangle' 'triangle' 'triangle' 'triangle'\n",
      " 'triangle' 'triangle' 'triangle' 'triangle' 'triangle' 'triangle'\n",
      " 'triangle' 'triangle' 'triangle' 'triangle' 'triangle' 'triangle'\n",
      " 'triangle' 'triangle' 'triangle' 'triangle' 'triangle' 'triangle'\n",
      " 'triangle' 'triangle' 'triangle' 'triangle' 'triangle' 'triangle'\n",
      " 'triangle' 'triangle' 'triangle' 'triangle' 'triangle' 'triangle'\n",
      " 'triangle' 'triangle' 'triangle' 'triangle' 'triangle' 'triangle'\n",
      " 'triangle' 'triangle' 'triangle' 'triangle' 'triangle' 'triangle'\n",
      " 'triangle' 'triangle' 'triangle' 'triangle' 'triangle' 'triangle'\n",
      " 'triangle' 'triangle' 'triangle' 'triangle' 'triangle' 'triangle'\n",
      " 'triangle' 'triangle' 'triangle' 'triangle' 'triangle' 'triangle'\n",
      " 'triangle' 'triangle' 'triangle' 'triangle' 'triangle' 'triangle'\n",
      " 'triangle' 'triangle' 'triangle' 'triangle' 'triangle' 'triangle'\n",
      " 'triangle' 'triangle' 'triangle' 'triangle' 'triangle' 'triangle'\n",
      " 'triangle' 'triangle' 'triangle' 'triangle' 'triangle' 'triangle' 'star'\n",
      " 'star' 'star' 'star' 'star' 'star' 'star' 'star' 'star' 'star' 'star'\n",
      " 'star' 'star' 'star' 'star' 'star' 'star' 'star' 'star' 'star' 'star'\n",
      " 'star' 'star' 'star' 'star' 'star' 'star' 'star' 'star' 'star' 'star'\n",
      " 'star' 'star' 'star' 'star' 'star' 'star' 'star' 'star' 'star' 'star'\n",
      " 'star' 'star' 'star' 'star' 'star' 'star' 'star' 'star' 'star' 'star'\n",
      " 'star' 'star' 'star' 'star' 'star' 'star' 'star' 'star' 'star' 'star'\n",
      " 'star' 'star' 'star' 'star' 'star' 'star' 'star' 'star' 'star' 'star'\n",
      " 'star' 'star' 'star' 'star' 'star' 'star' 'star' 'star' 'star' 'star'\n",
      " 'star' 'star' 'star' 'star' 'star' 'star' 'star' 'star' 'star' 'star'\n",
      " 'star' 'star' 'star' 'star' 'star' 'star' 'star' 'star' 'star' 'square'\n",
      " 'square' 'square' 'square' 'square' 'square' 'square' 'square' 'square'\n",
      " 'square' 'square' 'square' 'square' 'square' 'square' 'square' 'square'\n",
      " 'square' 'square' 'square' 'square' 'square' 'square' 'square' 'square'\n",
      " 'square' 'square' 'square' 'square' 'square' 'square' 'square' 'square'\n",
      " 'square' 'square' 'square' 'square' 'square' 'square' 'square' 'square'\n",
      " 'square' 'square' 'square' 'square' 'square' 'square' 'square' 'square'\n",
      " 'square' 'square' 'square' 'square' 'square' 'square' 'square' 'square'\n",
      " 'square' 'square' 'square' 'square' 'square' 'square' 'square' 'square'\n",
      " 'square' 'square' 'square' 'square' 'square' 'square' 'square' 'square'\n",
      " 'square' 'square' 'square' 'square' 'square' 'square' 'square' 'square'\n",
      " 'square' 'square' 'square' 'square' 'square' 'square' 'square' 'square'\n",
      " 'square' 'square' 'square' 'square' 'square' 'square' 'square' 'square'\n",
      " 'square' 'square' 'square' 'circle' 'circle' 'circle' 'circle' 'circle'\n",
      " 'circle' 'circle' 'circle' 'circle' 'circle' 'circle' 'circle' 'circle'\n",
      " 'circle' 'circle' 'circle' 'circle' 'circle' 'circle' 'circle' 'circle'\n",
      " 'circle' 'circle' 'circle' 'circle' 'circle' 'circle' 'circle' 'circle'\n",
      " 'circle' 'circle' 'circle' 'circle' 'circle' 'circle' 'circle' 'circle'\n",
      " 'circle' 'circle' 'circle' 'circle' 'circle' 'circle' 'circle' 'circle'\n",
      " 'circle' 'circle' 'circle' 'circle' 'circle' 'circle' 'circle' 'circle'\n",
      " 'circle' 'circle' 'circle' 'circle' 'circle' 'circle' 'circle' 'circle'\n",
      " 'circle' 'circle' 'circle' 'circle' 'circle' 'circle' 'circle' 'circle'\n",
      " 'circle' 'circle' 'circle' 'circle' 'circle' 'circle' 'circle' 'circle'\n",
      " 'circle' 'circle' 'circle' 'circle' 'circle' 'circle' 'circle' 'circle'\n",
      " 'circle' 'circle' 'circle' 'circle' 'circle' 'circle' 'circle' 'circle'\n",
      " 'circle' 'circle' 'circle' 'circle' 'circle' 'circle' 'circle' 'diamond'\n",
      " 'diamond' 'diamond' 'diamond' 'diamond' 'diamond' 'diamond' 'diamond'\n",
      " 'diamond' 'diamond' 'diamond' 'diamond' 'diamond' 'diamond' 'diamond'\n",
      " 'diamond' 'diamond' 'diamond' 'diamond' 'diamond' 'diamond' 'diamond'\n",
      " 'diamond' 'diamond' 'diamond' 'diamond' 'diamond' 'diamond' 'diamond'\n",
      " 'diamond' 'diamond' 'diamond' 'diamond' 'diamond' 'diamond' 'diamond'\n",
      " 'diamond' 'diamond' 'diamond' 'diamond' 'diamond' 'diamond' 'diamond'\n",
      " 'diamond' 'diamond' 'diamond' 'diamond' 'diamond' 'diamond' 'diamond'\n",
      " 'diamond' 'diamond' 'diamond' 'diamond' 'diamond' 'diamond' 'diamond'\n",
      " 'diamond' 'diamond' 'diamond' 'diamond' 'diamond' 'diamond' 'diamond'\n",
      " 'diamond' 'diamond' 'diamond' 'diamond' 'diamond' 'diamond' 'diamond'\n",
      " 'diamond' 'diamond' 'diamond' 'diamond' 'diamond' 'diamond' 'diamond'\n",
      " 'diamond' 'diamond' 'diamond' 'diamond' 'diamond' 'diamond' 'diamond'\n",
      " 'diamond' 'diamond' 'diamond' 'diamond' 'diamond' 'diamond' 'diamond'\n",
      " 'diamond' 'diamond' 'diamond' 'diamond' 'diamond' 'diamond' 'diamond'\n",
      " 'diamond' 'circle' 'semicircle' 'circle' 'semicircle' 'circle'\n",
      " 'semicircle' 'circle' 'semicircle' 'circle' 'semicircle' 'circle'\n",
      " 'semicircle' 'circle' 'semicircle' 'circle' 'semicircle' 'circle'\n",
      " 'semicircle' 'circle' 'semicircle' 'circle' 'semicircle' 'circle'\n",
      " 'semicircle' 'circle' 'semicircle' 'circle' 'semicircle' 'circle'\n",
      " 'semicircle' 'circle' 'semicircle' 'circle' 'semicircle' 'circle'\n",
      " 'semicircle' 'circle' 'semicircle' 'circle' 'semicircle' 'circle'\n",
      " 'semicircle' 'circle' 'semicircle' 'circle' 'semicircle' 'circle'\n",
      " 'semicircle' 'circle' 'semicircle' 'circle' 'semicircle' 'circle'\n",
      " 'semicircle' 'circle' 'semicircle' 'circle' 'semicircle' 'circle'\n",
      " 'semicircle' 'circle' 'semicircle' 'circle' 'semicircle' 'circle'\n",
      " 'semicircle' 'circle' 'semicircle' 'circle' 'semicircle' 'circle'\n",
      " 'semicircle' 'circle' 'semicircle' 'circle' 'semicircle' 'circle'\n",
      " 'semicircle' 'circle' 'semicircle' 'circle' 'semicircle' 'circle'\n",
      " 'semicircle' 'circle' 'semicircle' 'circle' 'semicircle' 'circle'\n",
      " 'semicircle' 'circle' 'semicircle' 'circle' 'semicircle' 'circle'\n",
      " 'semicircle' 'circle' 'semicircle' 'circle' 'semicircle' 'circle'\n",
      " 'semicircle' 'circle' 'semicircle' 'circle' 'semicircle' 'circle'\n",
      " 'semicircle' 'circle' 'semicircle' 'circle' 'semicircle' 'circle'\n",
      " 'semicircle' 'circle' 'semicircle' 'circle' 'semicircle' 'circle'\n",
      " 'semicircle' 'circle' 'semicircle' 'circle' 'semicircle' 'circle'\n",
      " 'semicircle' 'circle' 'semicircle' 'circle' 'semicircle' 'circle'\n",
      " 'semicircle' 'circle' 'semicircle' 'circle' 'semicircle' 'circle'\n",
      " 'semicircle' 'circle' 'semicircle' 'circle' 'semicircle' 'circle'\n",
      " 'semicircle' 'circle' 'semicircle' 'circle' 'semicircle' 'circle'\n",
      " 'semicircle' 'circle' 'semicircle' 'circle' 'semicircle' 'circle'\n",
      " 'semicircle' 'circle' 'semicircle' 'circle' 'semicircle' 'circle'\n",
      " 'semicircle' 'circle' 'semicircle' 'circle' 'semicircle' 'circle'\n",
      " 'semicircle' 'circle' 'semicircle' 'circle' 'semicircle' 'circle'\n",
      " 'semicircle' 'circle' 'semicircle' 'circle' 'semicircle' 'circle'\n",
      " 'semicircle' 'circle' 'semicircle' 'circle' 'semicircle' 'circle'\n",
      " 'semicircle' 'circle' 'semicircle' 'circle' 'semicircle' 'circle'\n",
      " 'semicircle' 'circle' 'semicircle' 'circle' 'semicircle' 'circle'\n",
      " 'semicircle' 'circle' 'semicircle']\n"
     ]
    }
   ],
   "source": [
    "label = np.asarray(label)\n",
    "print(label)"
   ]
  },
  {
   "cell_type": "code",
   "execution_count": 36,
   "metadata": {},
   "outputs": [],
   "source": [
    "X = []\n",
    "Y = []\n",
    "for i in train:\n",
    "    img = cv2.imread(i)\n",
    "    X.append(img)\n",
    "X = np.array(X)\n",
    "Y = np.array(label)"
   ]
  },
  {
   "cell_type": "code",
   "execution_count": 39,
   "metadata": {},
   "outputs": [
    {
     "name": "stdout",
     "output_type": "stream",
     "text": [
      "(900, 100, 100, 3)\n",
      "(1000,)\n"
     ]
    }
   ],
   "source": [
    "print(X.shape)\n",
    "print(Y.shape)"
   ]
  }
 ],
 "metadata": {
  "kernelspec": {
   "display_name": "Python 3",
   "language": "python",
   "name": "python3"
  },
  "language_info": {
   "codemirror_mode": {
    "name": "ipython",
    "version": 3
   },
   "file_extension": ".py",
   "mimetype": "text/x-python",
   "name": "python",
   "nbconvert_exporter": "python",
   "pygments_lexer": "ipython3",
   "version": "3.7.0"
  }
 },
 "nbformat": 4,
 "nbformat_minor": 2
}
