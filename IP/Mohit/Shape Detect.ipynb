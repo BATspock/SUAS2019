{
 "cells": [
  {
   "cell_type": "code",
   "execution_count": 2,
   "metadata": {},
   "outputs": [],
   "source": [
    "import os\n",
    "import numpy\n",
    "from tqdm import tqdm"
   ]
  },
  {
   "cell_type": "code",
   "execution_count": 1,
   "metadata": {},
   "outputs": [],
   "source": [
    "dir = 'shapes/'"
   ]
  },
  {
   "cell_type": "code",
   "execution_count": 15,
   "metadata": {},
   "outputs": [
    {
     "name": "stdout",
     "output_type": "stream",
     "text": [
      "['shapes/cross', 'shapes/pentagon', 'shapes/trapezoid', 'shapes/triangle', 'shapes/star', 'shapes/square', 'shapes/circle', 'shapes/diamond', 'shapes/semicircle']\n",
      "['shapes/pentagonpentagon_A_39.jpg', 'shapes/pentagonpentagon_A_38.jpg', 'shapes/pentagonpentagon_A_69.jpg', 'shapes/pentagonpentagon_A_59.jpg', 'shapes/pentagonpentagon_A_75.jpg', 'shapes/pentagonpentagon_A_44.jpg', 'shapes/pentagonpentagon_A_82.jpg', 'shapes/pentagonpentagon_A_91.jpg', 'shapes/pentagonpentagon_A_86.jpg', 'shapes/pentagonpentagon_A_7.jpg', 'shapes/pentagonpentagon_A_55.jpg', 'shapes/pentagonpentagon_A_96.jpg', 'shapes/pentagonpentagon_A_31.jpg', 'shapes/pentagonpentagon_A_2.jpg', 'shapes/pentagonpentagon_A_20.jpg', 'shapes/pentagonpentagon_A_81.jpg', 'shapes/pentagonpentagon_A_30.jpg', 'shapes/pentagonpentagon_A_77.jpg', 'shapes/pentagonpentagon_A_85.jpg', 'shapes/pentagonpentagon_A_76.jpg', 'shapes/pentagonpentagon_A_40.jpg', 'shapes/pentagonpentagon_A_13.jpg', 'shapes/pentagonpentagon_A_87.jpg', 'shapes/pentagonpentagon_A_48.jpg', 'shapes/pentagonpentagon_A_41.jpg', 'shapes/pentagonpentagon_A_25.jpg', 'shapes/pentagonpentagon_A_83.jpg', 'shapes/pentagonpentagon_A_62.jpg', 'shapes/pentagonpentagon_A_79.jpg', 'shapes/pentagonpentagon_A_43.jpg', 'shapes/pentagonpentagon_A_72.jpg', 'shapes/pentagonpentagon_A_36.jpg', 'shapes/pentagonpentagon_A_61.jpg', 'shapes/pentagonpentagon_A_22.jpg', 'shapes/pentagonpentagon_A_93.jpg', 'shapes/pentagonpentagon_A_64.jpg', 'shapes/pentagonpentagon_A_63.jpg', 'shapes/pentagonpentagon_A_11.jpg', 'shapes/pentagonpentagon_A_3.jpg', 'shapes/pentagonpentagon_A_51.jpg', 'shapes/pentagonpentagon_A_73.jpg', 'shapes/pentagonpentagon_A_78.jpg', 'shapes/pentagonpentagon_A_94.jpg', 'shapes/pentagonpentagon_A_88.jpg', 'shapes/pentagonpentagon_A_53.jpg', 'shapes/pentagonpentagon_A_14.jpg', 'shapes/pentagonpentagon_A_71.jpg', 'shapes/pentagonpentagon_A_19.jpg', 'shapes/pentagonpentagon_A_66.jpg', 'shapes/pentagonpentagon_A_84.jpg', 'shapes/pentagonpentagon_A_52.jpg', 'shapes/pentagonpentagon_A_37.jpg', 'shapes/pentagonpentagon_A_33.jpg', 'shapes/pentagonpentagon_A_99.jpg', 'shapes/pentagonpentagon_A_29.jpg', 'shapes/pentagonpentagon_A_10.jpg', 'shapes/pentagonpentagon_A_27.jpg', 'shapes/pentagonpentagon_A_4.jpg', 'shapes/pentagonpentagon_A_26.jpg', 'shapes/pentagonpentagon_A_23.jpg', 'shapes/pentagonpentagon_A_1.jpg', 'shapes/pentagonpentagon_A_17.jpg', 'shapes/pentagonpentagon_A_50.jpg', 'shapes/pentagonpentagon_A_28.jpg', 'shapes/pentagonpentagon_A_60.jpg', 'shapes/pentagonpentagon_A_45.jpg', 'shapes/pentagonpentagon_A_47.jpg', 'shapes/pentagonpentagon_A_35.jpg', 'shapes/pentagonpentagon_A_5.jpg', 'shapes/pentagonpentagon_A_18.jpg', 'shapes/pentagonpentagon_A_68.jpg', 'shapes/pentagonpentagon_A_24.jpg', 'shapes/pentagonpentagon_A_65.jpg', 'shapes/pentagonpentagon_A_74.jpg', 'shapes/pentagonpentagon_A_49.jpg', 'shapes/pentagonpentagon_A_92.jpg', 'shapes/pentagonpentagon_A_8.jpg', 'shapes/pentagonpentagon_A_67.jpg', 'shapes/pentagonpentagon_A_12.jpg', 'shapes/pentagonpentagon_A_80.jpg', 'shapes/pentagonpentagon_A_34.jpg', 'shapes/pentagonpentagon_A_16.jpg', 'shapes/pentagonpentagon_A_9.jpg', 'shapes/pentagonpentagon_A_98.jpg', 'shapes/pentagonpentagon_A_0.jpg', 'shapes/pentagonpentagon_A_56.jpg', 'shapes/pentagonpentagon_A_54.jpg', 'shapes/pentagonpentagon_A_90.jpg', 'shapes/pentagonpentagon_A_97.jpg', 'shapes/pentagonpentagon_A_15.jpg', 'shapes/pentagonpentagon_A_70.jpg', 'shapes/pentagonpentagon_A_58.jpg', 'shapes/pentagonpentagon_A_46.jpg', 'shapes/pentagonpentagon_A_21.jpg', 'shapes/pentagonpentagon_A_6.jpg', 'shapes/pentagonpentagon_A_89.jpg', 'shapes/pentagonpentagon_A_57.jpg', 'shapes/pentagonpentagon_A_95.jpg', 'shapes/pentagonpentagon_A_32.jpg', 'shapes/pentagonpentagon_A_42.jpg']\n"
     ]
    }
   ],
   "source": [
    "labels = ['circle', 'cross', 'diamond', 'pentagon', 'semicircle', 'square', 'star', 'trapezoid', 'triangle']\n",
    "train_images = [dir+i for i in os.listdir(dir)]\n",
    "print(train_images)\n",
    "train_set = []\n",
    "for i in train_images:\n",
    "    train_set.append([i+j for j in os.listdir(i)])\n",
    "print(train_set[1])"
   ]
  },
  {
   "cell_type": "code",
   "execution_count": null,
   "metadata": {},
   "outputs": [],
   "source": []
  }
 ],
 "metadata": {
  "kernelspec": {
   "display_name": "Python 3",
   "language": "python",
   "name": "python3"
  },
  "language_info": {
   "codemirror_mode": {
    "name": "ipython",
    "version": 3
   },
   "file_extension": ".py",
   "mimetype": "text/x-python",
   "name": "python",
   "nbconvert_exporter": "python",
   "pygments_lexer": "ipython3",
   "version": "3.7.0"
  }
 },
 "nbformat": 4,
 "nbformat_minor": 2
}
