{
 "cells": [
  {
   "cell_type": "code",
   "execution_count": 1,
   "metadata": {},
   "outputs": [
    {
     "name": "stderr",
     "output_type": "stream",
     "text": [
      "Using TensorFlow backend.\n"
     ]
    },
    {
     "name": "stdout",
     "output_type": "stream",
     "text": [
      "Train on 60000 samples, validate on 10000 samples\n",
      "Epoch 1/10\n",
      " - 5s - loss: 9.1161 - acc: 0.4331 - val_loss: 8.9787 - val_acc: 0.4422\n",
      "Epoch 2/10\n",
      " - 5s - loss: 8.0771 - acc: 0.4979 - val_loss: 7.2409 - val_acc: 0.5504\n",
      "Epoch 3/10\n",
      " - 6s - loss: 7.3419 - acc: 0.5437 - val_loss: 7.3497 - val_acc: 0.5427\n",
      "Epoch 4/10\n",
      " - 5s - loss: 7.3932 - acc: 0.5409 - val_loss: 7.4792 - val_acc: 0.5354\n",
      "Epoch 5/10\n",
      " - 5s - loss: 7.3299 - acc: 0.5447 - val_loss: 7.2782 - val_acc: 0.5476\n",
      "Epoch 6/10\n",
      " - 5s - loss: 7.2701 - acc: 0.5485 - val_loss: 7.0613 - val_acc: 0.5615\n",
      "Epoch 7/10\n",
      " - 6s - loss: 7.1855 - acc: 0.5539 - val_loss: 6.9363 - val_acc: 0.5695\n",
      "Epoch 8/10\n",
      " - 5s - loss: 7.1001 - acc: 0.5592 - val_loss: 7.1168 - val_acc: 0.5582\n",
      "Epoch 9/10\n",
      " - 5s - loss: 7.0556 - acc: 0.5620 - val_loss: 7.1017 - val_acc: 0.5593\n",
      "Epoch 10/10\n",
      " - 5s - loss: 7.0969 - acc: 0.5594 - val_loss: 6.9364 - val_acc: 0.5695\n",
      "Baseline Error: 43.05%\n"
     ]
    }
   ],
   "source": [
    "import numpy\n",
    "from keras.datasets import mnist\n",
    "from keras.models import Sequential\n",
    "from keras.layers import Dense\n",
    "from keras.layers import Dropout\n",
    "from keras.utils import np_utils\n",
    "seed = 7\n",
    "numpy.random.seed(seed)\n",
    "(X_train, y_train), (X_test, y_test) = mnist.load_data()\n",
    "num_pixels = X_train.shape[1] * X_train.shape[2]\n",
    "X_train = X_train.reshape(X_train.shape[0], num_pixels).astype('float32')\n",
    "X_test = X_test.reshape(X_test.shape[0], num_pixels).astype('float32')\n",
    "y_train = np_utils.to_categorical(y_train)\n",
    "y_test = np_utils.to_categorical(y_test)\n",
    "num_classes = y_test.shape[1]\n",
    "def baseline_model():\n",
    "\tmodel = Sequential()\n",
    "\tmodel.add(Dense(num_pixels, input_dim=num_pixels, kernel_initializer='normal', activation='relu'))\n",
    "\tmodel.add(Dense(num_classes, kernel_initializer='normal', activation='softmax'))\n",
    "\tmodel.compile(loss='categorical_crossentropy', optimizer='adam', metrics=['accuracy'])\n",
    "\treturn model\n",
    "model = baseline_model()\n",
    "model.fit(X_train, y_train, validation_data=(X_test, y_test), epochs=10, batch_size=200, verbose=2)\n",
    "scores = model.evaluate(X_test, y_test, verbose=0)\n",
    "print(\"Baseline Error: %.2f%%\" % (100-scores[1]*100))"
   ]
  },
  {
   "cell_type": "code",
   "execution_count": null,
   "metadata": {
    "collapsed": true
   },
   "outputs": [],
   "source": []
  }
 ],
 "metadata": {
  "kernelspec": {
   "display_name": "Python 3",
   "language": "python",
   "name": "python3"
  },
  "language_info": {
   "codemirror_mode": {
    "name": "ipython",
    "version": 3
   },
   "file_extension": ".py",
   "mimetype": "text/x-python",
   "name": "python",
   "nbconvert_exporter": "python",
   "pygments_lexer": "ipython3",
   "version": "3.6.6"
  }
 },
 "nbformat": 4,
 "nbformat_minor": 2
}
